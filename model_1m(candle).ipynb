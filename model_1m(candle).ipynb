{
  "nbformat": 4,
  "nbformat_minor": 0,
  "metadata": {
    "colab": {
      "name": "model-1m(candle).ipynb",
      "private_outputs": true,
      "provenance": [],
      "mount_file_id": "1cFe5j3oyE3cKARTpy-fnJ5SJG-M7-YkK",
      "authorship_tag": "ABX9TyPk5I+0AxHh6Y3w4ldm3iJC",
      "include_colab_link": true
    },
    "kernelspec": {
      "name": "python3",
      "display_name": "Python 3"
    },
    "language_info": {
      "name": "python"
    },
    "accelerator": "GPU"
  },
  "cells": [
    {
      "cell_type": "markdown",
      "metadata": {
        "id": "view-in-github",
        "colab_type": "text"
      },
      "source": [
        "<a href=\"https://colab.research.google.com/github/vicky1412/Predicting_stocks_usiang_deep_learning-models/blob/main/model_1m(candle).ipynb\" target=\"_parent\"><img src=\"https://colab.research.google.com/assets/colab-badge.svg\" alt=\"Open In Colab\"/></a>"
      ]
    },
    {
      "cell_type": "code",
      "metadata": {
        "id": "FB17J6MQihlM"
      },
      "source": [
        "import datetime\n",
        "import time\n",
        "import math\n",
        "import numpy as np\n",
        "import pandas as pd\n",
        "from sklearn.preprocessing import MinMaxScaler\n",
        "from keras.models import Sequential\n",
        "from keras.layers import Dense,LSTM\n",
        "import matplotlib.pyplot as plt\n",
        "plt.style.use('fivethirtyeight')"
      ],
      "execution_count": null,
      "outputs": []
    },
    {
      "cell_type": "markdown",
      "metadata": {
        "id": "Cd9z684nm_Ov"
      },
      "source": [
        "## Data"
      ]
    },
    {
      "cell_type": "code",
      "metadata": {
        "id": "tb7xKIunjA5H"
      },
      "source": [
        "data = pd.read_csv('/content/drive/MyDrive/Option Trading/EurUsd-1m.csv')"
      ],
      "execution_count": null,
      "outputs": []
    },
    {
      "cell_type": "code",
      "metadata": {
        "id": "UGr9UDWOB4k1"
      },
      "source": [
        "def colors(row):\n",
        "  if row['Open'] < row['Close']:\n",
        "    return 1\n",
        "  elif row['Open'] > row['Close']:\n",
        "    return 0\n",
        "  else:\n",
        "    return 0\n",
        "\n",
        "# Get the color(candles)\n",
        "data['Candle'] = data.apply (lambda row: colors(row), axis=1)"
      ],
      "execution_count": null,
      "outputs": []
    },
    {
      "cell_type": "code",
      "metadata": {
        "id": "_SXxxGVG1v7z"
      },
      "source": [
        "data"
      ],
      "execution_count": null,
      "outputs": []
    },
    {
      "cell_type": "markdown",
      "metadata": {
        "id": "LOyZsSSxrMpV"
      },
      "source": [
        "## Filter Candle Column"
      ]
    },
    {
      "cell_type": "code",
      "metadata": {
        "id": "yPx0AFsljLiV"
      },
      "source": [
        "df = data.filter(['Candle'])\n",
        "\n",
        "#convert dataframe to a numpy array\n",
        "dataset = df.values\n",
        "#Get the no of rows to train the model on\n",
        "training_data_len = math.ceil(len(dataset)*0.8)"
      ],
      "execution_count": null,
      "outputs": []
    },
    {
      "cell_type": "code",
      "metadata": {
        "id": "vz6nNbLM0F5f"
      },
      "source": [
        "datasetfloat = dataset.astype('float32')"
      ],
      "execution_count": null,
      "outputs": []
    },
    {
      "cell_type": "markdown",
      "metadata": {
        "id": "PUbMJ_NaECe6"
      },
      "source": [
        "## Scale between(0,1)"
      ]
    },
    {
      "cell_type": "code",
      "metadata": {
        "id": "TgJAi1qxlew3"
      },
      "source": [
        "# scaler = MinMaxScaler(feature_range=(0,1))\n",
        "# scaled_data = scaler.fit_transform(dataset)"
      ],
      "execution_count": null,
      "outputs": []
    },
    {
      "cell_type": "markdown",
      "metadata": {
        "id": "oiMXJwJUtLR3"
      },
      "source": [
        "## create the train data set"
      ]
    },
    {
      "cell_type": "code",
      "metadata": {
        "id": "eo84LyFLrvir"
      },
      "source": [
        "train_data = datasetfloat[0:training_data_len]\n",
        "train_dataint = dataset[0:training_data_len]\n",
        "\n",
        "# split the data into x_train and y_train data set\n",
        "x_train = []\n",
        "y_train = []\n",
        "\n",
        "# x_train = 60 values, y_train = 61st and 62nd value\n",
        "for i in range(60,len(train_data)):\n",
        "  x_train.append(train_data[i-60:i])\n",
        "  y_train.append(train_dataint[i])\n",
        "\n",
        "#convert x_train and y_train into numpy arrrays\n",
        "x_train,y_train = np.array(x_train),np.array(y_train)\n",
        "\n",
        "# #Reshape x_train to 3 dim because LSTM requires 3 dim\n",
        "# x_train = np.reshape(x_train,(x_train.shape[0],x_train.shape[1],1))"
      ],
      "execution_count": null,
      "outputs": []
    },
    {
      "cell_type": "code",
      "metadata": {
        "id": "nd0iM-jOzXrm"
      },
      "source": [
        "x_train"
      ],
      "execution_count": null,
      "outputs": []
    },
    {
      "cell_type": "markdown",
      "metadata": {
        "id": "JZWE63rQEEeS"
      },
      "source": [
        "## Create Test dataset"
      ]
    },
    {
      "cell_type": "code",
      "metadata": {
        "id": "6ODk6eQQEJV1"
      },
      "source": [
        "test_data = dataset[training_data_len-60:]\n",
        "\n",
        "\n",
        "#split the data into x_test and y_test data set\n",
        "x_test = []\n",
        "y_test = dataset[training_data_len:]\n",
        "\n",
        "#x_test = 60 values, y_test = 61st and 62nd value\n",
        "for i in range(60,len(test_data)):\n",
        "  x_test.append(test_data[i-60:i])\n",
        "\n",
        "#convert x_test and y_test into numpy arrrays\n",
        "x_test = np.array(x_test)\n",
        "\n",
        "# #Reshape x_test to 3 dim because LSTM requires 3 dim\n",
        "# x_test = np.reshape(x_test,(x_test.shape[0],x_test.shape[1],1))"
      ],
      "execution_count": null,
      "outputs": []
    },
    {
      "cell_type": "code",
      "metadata": {
        "id": "I-Xz3zDC9msX"
      },
      "source": [
        "x_test.dtype"
      ],
      "execution_count": null,
      "outputs": []
    },
    {
      "cell_type": "markdown",
      "metadata": {
        "id": "LtbR0XHEtE0m"
      },
      "source": [
        "## Build the LSTM Model"
      ]
    },
    {
      "cell_type": "code",
      "metadata": {
        "id": "7rMi-gq2siB4"
      },
      "source": [
        "model = Sequential()\n",
        "model.add(LSTM(50, return_sequences=True))\n",
        "model.add(LSTM(50, return_sequences=False, input_shape = (x_train.shape[1],1)))\n",
        "model.add(Dense(25))\n",
        "model.add(Dense(1))"
      ],
      "execution_count": null,
      "outputs": []
    },
    {
      "cell_type": "code",
      "metadata": {
        "id": "yWVVihsUtSDc"
      },
      "source": [
        "#compile the model\n",
        "model.compile(optimizer='adam',loss='mean_squared_error')"
      ],
      "execution_count": null,
      "outputs": []
    },
    {
      "cell_type": "markdown",
      "metadata": {
        "id": "OX6D2Ll2tjG2"
      },
      "source": [
        "## train the model"
      ]
    },
    {
      "cell_type": "code",
      "metadata": {
        "id": "w9dBJdIQte12"
      },
      "source": [
        "np.random.seed(42)\n",
        "model.fit(x_train,y_train,batch_size=1,epochs=1)"
      ],
      "execution_count": null,
      "outputs": []
    },
    {
      "cell_type": "code",
      "metadata": {
        "id": "qKA5sG3ntz7v"
      },
      "source": [
        "from keras.models import load_model\n",
        "loadedmodel = load_model('/content/drive/MyDrive/Option Trading/model-1m(candle).h5')"
      ],
      "execution_count": null,
      "outputs": []
    },
    {
      "cell_type": "markdown",
      "metadata": {
        "id": "9SYNjJO4BT2I"
      },
      "source": [
        "## Predict"
      ]
    },
    {
      "cell_type": "code",
      "metadata": {
        "id": "wL7-K_wprLUR"
      },
      "source": [
        "predictions = loadedmodel.predict(x_test)\n",
        "# predictions = obj.inverse_transform(predictions)\n",
        "mse = np.mean(predictions - y_test)**2\n",
        "mse"
      ],
      "execution_count": null,
      "outputs": []
    },
    {
      "cell_type": "code",
      "metadata": {
        "id": "FgLaPOWv9aY3"
      },
      "source": [
        "predictions"
      ],
      "execution_count": null,
      "outputs": []
    },
    {
      "cell_type": "markdown",
      "metadata": {
        "id": "cDLLZs2SBYeJ"
      },
      "source": [
        "## Save the model"
      ]
    },
    {
      "cell_type": "code",
      "metadata": {
        "id": "GWLpWkSZBb2P"
      },
      "source": [
        "model.save(\"model-1m.h5\")"
      ],
      "execution_count": null,
      "outputs": []
    }
  ]
}