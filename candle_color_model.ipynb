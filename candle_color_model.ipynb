{
  "nbformat": 4,
  "nbformat_minor": 0,
  "metadata": {
    "colab": {
      "name": "candle-color-model.ipynb",
      "provenance": [],
      "authorship_tag": "ABX9TyPnWQJhA8oDrm0ccFf7I2uk",
      "include_colab_link": true
    },
    "kernelspec": {
      "name": "python3",
      "display_name": "Python 3"
    },
    "language_info": {
      "name": "python"
    }
  },
  "cells": [
    {
      "cell_type": "markdown",
      "metadata": {
        "id": "view-in-github",
        "colab_type": "text"
      },
      "source": [
        "<a href=\"https://colab.research.google.com/github/vicky1412/Predicting_stocks_usiang_deep_learning-models/blob/main/candle_color_model.ipynb\" target=\"_parent\"><img src=\"https://colab.research.google.com/assets/colab-badge.svg\" alt=\"Open In Colab\"/></a>"
      ]
    },
    {
      "cell_type": "code",
      "metadata": {
        "id": "PG4Il-ILaj4m"
      },
      "source": [
        "pip install yfinance"
      ],
      "execution_count": null,
      "outputs": []
    },
    {
      "cell_type": "code",
      "metadata": {
        "id": "01Hn8IDAawCz"
      },
      "source": [
        "import datetime\n",
        "import time\n",
        "import math\n",
        "import pickle\n",
        "import numpy as np\n",
        "import pandas as pd\n",
        "from sklearn.preprocessing import MinMaxScaler\n",
        "from keras.models import Sequential\n",
        "from keras.layers import Dense,LSTM\n",
        "import matplotlib\n",
        "import matplotlib.pyplot as plt\n",
        "plt.style.use('fivethirtyeight')"
      ],
      "execution_count": null,
      "outputs": []
    },
    {
      "cell_type": "markdown",
      "metadata": {
        "id": "ddYD-_GUr3ZC"
      },
      "source": [
        "## Import Data"
      ]
    },
    {
      "cell_type": "code",
      "metadata": {
        "id": "VWz4-mLlbLMc",
        "colab": {
          "base_uri": "https://localhost:8080/"
        },
        "outputId": "821ba0ef-0187-43cd-816e-ce6c3f440fac"
      },
      "source": [
        "import yfinance as yf\n",
        "data = yf.download(\"BTC-USD\", period='60d',interval='5m')\n",
        "\n",
        "#filter\n",
        "data = data[['Open','Close']]"
      ],
      "execution_count": null,
      "outputs": [
        {
          "output_type": "stream",
          "text": [
            "\r[*********************100%***********************]  1 of 1 completed\n"
          ],
          "name": "stdout"
        }
      ]
    },
    {
      "cell_type": "markdown",
      "metadata": {
        "id": "7JG0OvEosOpH"
      },
      "source": [
        "## Data Manipulating"
      ]
    },
    {
      "cell_type": "code",
      "metadata": {
        "id": "CTKmKMmSdfuC"
      },
      "source": [
        "# Add Diff and Colors column\n",
        "\n",
        "def colors(row):\n",
        "  if row['Open'] < row['Close']:\n",
        "    return 1\n",
        "  elif row['Open'] > row['Close']:\n",
        "    return 0\n",
        "  else:\n",
        "    return 0\n",
        "\n",
        "# Get the color(candles)\n",
        "data['Color'] = data.apply (lambda row: colors(row), axis=1)\n",
        "\n",
        "# # Get color values and convert into numerical\n",
        "# col = pd.DataFrame()\n",
        "# col['Color'] = data.apply (lambda row: colors(row), axis=1)\n",
        "# dummies = pd.get_dummies(col[['Color']])\n",
        "\n",
        "# # Concatinate data with colors columns\n",
        "# data = pd.concat([data, dummies], axis=1)\n",
        "data = data.filter(['Color'])"
      ],
      "execution_count": null,
      "outputs": []
    },
    {
      "cell_type": "code",
      "metadata": {
        "id": "HJ7QxOiKr0lX"
      },
      "source": [
        "data"
      ],
      "execution_count": null,
      "outputs": []
    },
    {
      "cell_type": "markdown",
      "metadata": {
        "id": "XF-1QESf0tlT"
      },
      "source": [
        "## Convert df--> np array"
      ]
    },
    {
      "cell_type": "code",
      "metadata": {
        "id": "_PjxZf_wtPRH"
      },
      "source": [
        "#convert dataframe to a numpy array\n",
        "dataset = data.values\n",
        "#Get the no of rows to train the model on\n",
        "training_data_len = math.ceil(len(dataset)*0.8)"
      ],
      "execution_count": null,
      "outputs": []
    },
    {
      "cell_type": "markdown",
      "metadata": {
        "id": "qjH34Z-W028l"
      },
      "source": [
        "## Scaling(0,1)"
      ]
    },
    {
      "cell_type": "code",
      "metadata": {
        "id": "2-SscHZe0ceV"
      },
      "source": [
        "#Scale the data(between 0 to 1)\n",
        "scaler = MinMaxScaler(feature_range=(0,1))\n",
        "scaled_data = scaler.fit_transform(dataset)"
      ],
      "execution_count": null,
      "outputs": []
    },
    {
      "cell_type": "markdown",
      "metadata": {
        "id": "ej4Rx6Pp0eQF"
      },
      "source": [
        "## Create train dataset"
      ]
    },
    {
      "cell_type": "code",
      "metadata": {
        "id": "R6WVXmMC1KTp"
      },
      "source": [
        "#create the train data set\n",
        "train_data = scaled_data[0:training_data_len]\n",
        "#split the data into x_train and y_train data set\n",
        "x_train = []\n",
        "y_train = []\n",
        "\n",
        "#x_train = 60 values, y_train = 61st value\n",
        "for i in range(60,len(train_data)):\n",
        "  x_train.append(train_data[i-60:i])\n",
        "  y_train.append(train_data[i])\n",
        "\n",
        "#convert x_train and y_train into numpy arrrays\n",
        "x_train,y_train = np.array(x_train),np.array(y_train)\n",
        "\n",
        "# #Reshape x_train to 3 dim because LSTM requires 3 dim\n",
        "# x_train = np.reshape(x_train,(x_train.shape[0],x_train.shape[1],1))"
      ],
      "execution_count": null,
      "outputs": []
    },
    {
      "cell_type": "code",
      "metadata": {
        "colab": {
          "base_uri": "https://localhost:8080/"
        },
        "id": "SQUZY-2PMW5B",
        "outputId": "b29cfdfb-b635-4516-b2a9-b416527d18ef"
      },
      "source": [
        "x_train.dtype"
      ],
      "execution_count": null,
      "outputs": [
        {
          "output_type": "execute_result",
          "data": {
            "text/plain": [
              "dtype('float64')"
            ]
          },
          "metadata": {
            "tags": []
          },
          "execution_count": 8
        }
      ]
    },
    {
      "cell_type": "markdown",
      "metadata": {
        "id": "-AgufIQX3Yd1"
      },
      "source": [
        "## Building Model"
      ]
    },
    {
      "cell_type": "code",
      "metadata": {
        "id": "izpkhqBy4dAe"
      },
      "source": [
        "#Build the LSTM Model\n",
        "\n",
        "model = Sequential()\n",
        "model.add(LSTM(50, return_sequences=True))\n",
        "model.add(LSTM(50, return_sequences=False, input_shape = (x_train.shape[1],1)))\n",
        "model.add(Dense(25))\n",
        "model.add(Dense(1))"
      ],
      "execution_count": null,
      "outputs": []
    },
    {
      "cell_type": "code",
      "metadata": {
        "id": "7tGUm1Vx4e1b"
      },
      "source": [
        "#compile the model\n",
        "model.compile(optimizer='adam',loss='mean_squared_error')"
      ],
      "execution_count": null,
      "outputs": []
    },
    {
      "cell_type": "markdown",
      "metadata": {
        "id": "CH-BKgBy4vA4"
      },
      "source": [
        "## Training the model"
      ]
    },
    {
      "cell_type": "code",
      "metadata": {
        "id": "qg3xO50w4smD"
      },
      "source": [
        "#train the model\n",
        "np.random.seed(42)\n",
        "model.fit(x_train,y_train,batch_size=1,epochs=1)"
      ],
      "execution_count": null,
      "outputs": []
    },
    {
      "cell_type": "markdown",
      "metadata": {
        "id": "On4TLC135DU6"
      },
      "source": [
        "## Create Test dataset"
      ]
    },
    {
      "cell_type": "code",
      "metadata": {
        "id": "kTwVCfBb5Hy3"
      },
      "source": [
        "#create the test data set\n",
        "test_data = scaled_data[training_data_len-60:]\n",
        "#split the data into x_train and y_train data set\n",
        "x_test = []\n",
        "y_test = dataset[training_data_len:]\n",
        "\n",
        "#x_train = 60 values, y_train = 61st value\n",
        "for i in range(60,len(test_data)):\n",
        "  x_test.append(test_data[i-60:i])\n",
        "\n",
        "#convert x_train and y_train into numpy arrrays\n",
        "x_test = np.array(x_test)\n",
        "\n",
        "# #Reshape x_train to 3 dim because LSTM requires 3 dim\n",
        "# x_test = np.reshape(x_test,(x_test.shape[0],x_test.shape[1],1))"
      ],
      "execution_count": null,
      "outputs": []
    },
    {
      "cell_type": "markdown",
      "metadata": {
        "id": "8WnwR01G5M-b"
      },
      "source": [
        "## Predict"
      ]
    },
    {
      "cell_type": "code",
      "metadata": {
        "id": "U2DODI-15Sxf"
      },
      "source": [
        "#Predict\n",
        "\n",
        "predictions = model.predict(x_test)\n",
        "predictions = scaler.inverse_transform(predictions)"
      ],
      "execution_count": null,
      "outputs": []
    },
    {
      "cell_type": "code",
      "metadata": {
        "colab": {
          "base_uri": "https://localhost:8080/"
        },
        "id": "0Jok948MazH4",
        "outputId": "0899ff57-6491-42c3-8c91-f6d179b596d6"
      },
      "source": [
        "predictions[0:5]"
      ],
      "execution_count": null,
      "outputs": [
        {
          "output_type": "execute_result",
          "data": {
            "text/plain": [
              "array([[1],\n",
              "       [1],\n",
              "       [1],\n",
              "       [1],\n",
              "       [1]])"
            ]
          },
          "metadata": {
            "tags": []
          },
          "execution_count": 129
        }
      ]
    },
    {
      "cell_type": "code",
      "metadata": {
        "id": "KUD5kZktbQfR"
      },
      "source": [
        "predictions = np.round(predictions,decimals=1)\n",
        "predictions = np.rint(predictions)\n",
        "predictions = predictions.astype(int)"
      ],
      "execution_count": null,
      "outputs": []
    },
    {
      "cell_type": "markdown",
      "metadata": {
        "id": "OD0yIezR5XVy"
      },
      "source": [
        "## Evaluate"
      ]
    },
    {
      "cell_type": "code",
      "metadata": {
        "colab": {
          "base_uri": "https://localhost:8080/"
        },
        "id": "YWprZsUC5dHV",
        "outputId": "33324f48-2aec-492a-bf52-ebd8214da9ae"
      },
      "source": [
        "#Evaluate\n",
        "np.random.seed(42)\n",
        "mse = np.sqrt(np.mean(predictions - y_test)**2)\n",
        "mse"
      ],
      "execution_count": null,
      "outputs": [
        {
          "output_type": "execute_result",
          "data": {
            "text/plain": [
              "0.08770900557348196"
            ]
          },
          "metadata": {
            "tags": []
          },
          "execution_count": 90
        }
      ]
    },
    {
      "cell_type": "markdown",
      "metadata": {
        "id": "wxMOZbjn5e_M"
      },
      "source": [
        "## Virtualize"
      ]
    },
    {
      "cell_type": "code",
      "metadata": {
        "id": "VwnK5ooD5ie9"
      },
      "source": [
        "# Virtualize the train,test and valid\n",
        "\n",
        "#Plot the data\n",
        "train = data[0:training_data_len]\n",
        "valid = data[training_data_len:]\n",
        "valid['Predictions'] = predictions\n",
        "valid['index']=np.arange(0,3409,1)\n",
        "valid.set_index(\"index\", inplace = True)"
      ],
      "execution_count": null,
      "outputs": []
    },
    {
      "cell_type": "code",
      "metadata": {
        "id": "1-YeZ7qvS7Sk"
      },
      "source": [
        "valid.head()"
      ],
      "execution_count": null,
      "outputs": []
    },
    {
      "cell_type": "code",
      "metadata": {
        "colab": {
          "base_uri": "https://localhost:8080/",
          "height": 675
        },
        "id": "1WDNlg-fHc78",
        "outputId": "618bd4ee-f8e0-4419-e551-eb1ad39e8697"
      },
      "source": [
        "# virtualize\n",
        "\n",
        "fig, ax = plt.subplots(figsize=(10,10))\n",
        "\n",
        "# Customize plot\n",
        "ax.set(title=\"Future Candles\", xlabel=\"Height\", ylabel=\"Width\")\n",
        "\n",
        "plt.xlim([0, 50])\n",
        "plt.ylim([-50, 50])\n",
        "\n",
        "def rects(axx,ayy,cancolor):\n",
        "  rect = matplotlib.patches.Rectangle((axx, ayy),\n",
        "                                      1, 2,\n",
        "                                      color =cancolor)\n",
        "  return rect\n",
        "\n",
        "for index, row in valid.iterrows():\n",
        "  axx = index\n",
        "  if row[\"Predictions\"] == 1:\n",
        "    ayy = index\n",
        "    cancolor = 'green'\n",
        "    rect = rects(axx,ayy,cancolor)\n",
        "    ax.add_patch(rect)\n",
        "  elif row[\"Predictions\"] == 0:\n",
        "    ayy = index if axx == 0 else (ayy-1)\n",
        "    cancolor = 'red'\n",
        "    rect = rects(axx,ayy,cancolor)\n",
        "    ax.add_patch(rect)\n",
        "  else:\n",
        "    ayy = index-1\n",
        "    cancolor = 'white'\n",
        "    rect = rects(axx,ayy,cancolor)\n",
        "    ax.add_patch(rect)\n",
        "\n",
        "for index, row in valid.iterrows():\n",
        "  axx = index\n",
        "  if row[\"Color\"] == 1:\n",
        "    ayy = index\n",
        "    cancolor = 'black'\n",
        "    rect = rects(axx,ayy,cancolor)\n",
        "    ax.add_patch(rect)\n",
        "  elif row[\"Color\"] == 0:\n",
        "    ayy = index if axx == 0 else (ayy-1)\n",
        "    cancolor = 'yellow'\n",
        "    rect = rects(axx,ayy,cancolor)\n",
        "    ax.add_patch(rect)\n",
        "  else:\n",
        "    ayy = index-1\n",
        "    cancolor = 'white'\n",
        "    rect = rects(axx,ayy,cancolor)\n",
        "    ax.add_patch(rect)\n",
        "  "
      ],
      "execution_count": null,
      "outputs": [
        {
          "output_type": "display_data",
          "data": {
            "image/png": "[encoded data removed]",
            "text/plain": [
              "<Figure size 720x720 with 1 Axes>"
            ]
          },
          "metadata": {
            "tags": []
          }
        }
      ]
    },
    {
      "cell_type": "code",
      "metadata": {
        "id": "DEgHYKtBJSvb"
      },
      "source": [
        ""
      ],
      "execution_count": null,
      "outputs": []
    }
  ]
}