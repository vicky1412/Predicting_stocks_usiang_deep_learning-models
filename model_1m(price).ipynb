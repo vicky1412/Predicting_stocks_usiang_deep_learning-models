{
  "nbformat": 4,
  "nbformat_minor": 0,
  "metadata": {
    "colab": {
      "name": "model-1m(price).ipynb",
      "provenance": [],
      "mount_file_id": "16S_qUCoTqn9fjeEpO4hmrYnMVG2r6OqQ",
      "authorship_tag": "ABX9TyMoahrZsd4OArir6yKvc3Lk",
      "include_colab_link": true
    },
    "kernelspec": {
      "name": "python3",
      "display_name": "Python 3"
    },
    "language_info": {
      "name": "python"
    },
    "accelerator": "GPU"
  },
  "cells": [
    {
      "cell_type": "markdown",
      "metadata": {
        "id": "view-in-github",
        "colab_type": "text"
      },
      "source": [
        "<a href=\"https://colab.research.google.com/github/vicky1412/Predicting_stocks_usiang_deep_learning-models/blob/main/model_1m(price).ipynb\" target=\"_parent\"><img src=\"https://colab.research.google.com/assets/colab-badge.svg\" alt=\"Open In Colab\"/></a>"
      ]
    },
    {
      "cell_type": "markdown",
      "metadata": {
        "id": "_8aBlT8EC7LQ"
      },
      "source": [
        "## Imports"
      ]
    },
    {
      "cell_type": "code",
      "metadata": {
        "id": "8APO2RLzDHyi"
      },
      "source": [
        "import datetime\n",
        "import time\n",
        "import math\n",
        "import numpy as np\n",
        "import pandas as pd\n",
        "from sklearn.preprocessing import MinMaxScaler\n",
        "from keras.models import Sequential\n",
        "from keras.layers import Dense,LSTM\n",
        "import matplotlib.pyplot as plt\n",
        "plt.style.use('fivethirtyeight')"
      ],
      "execution_count": null,
      "outputs": []
    },
    {
      "cell_type": "markdown",
      "metadata": {
        "id": "Cd9z684nm_Ov"
      },
      "source": [
        "## Data"
      ]
    },
    {
      "cell_type": "code",
      "metadata": {
        "id": "y3ycEkxrDNW5"
      },
      "source": [
        "data = pd.read_csv('/content/drive/MyDrive/Option Trading/EurUsd-1m.csv')"
      ],
      "execution_count": null,
      "outputs": []
    },
    {
      "cell_type": "code",
      "metadata": {
        "id": "IITYJi45DdV4"
      },
      "source": [
        "data.head()"
      ],
      "execution_count": null,
      "outputs": []
    },
    {
      "cell_type": "code",
      "metadata": {
        "id": "6ibV75NDDgio"
      },
      "source": [
        "df = data.filter(['Close'])\n",
        "\n",
        "#convert dataframe to a numpy array\n",
        "dataset = df.values\n",
        "#Get the no of rows to train the model on\n",
        "training_data_len = math.ceil(len(dataset)*0.8)"
      ],
      "execution_count": null,
      "outputs": []
    },
    {
      "cell_type": "markdown",
      "metadata": {
        "id": "SpnUArZMD95v"
      },
      "source": [
        "## Scale between(0,1)"
      ]
    },
    {
      "cell_type": "code",
      "metadata": {
        "id": "S7Z_ENTLDzcZ"
      },
      "source": [
        "scaler = MinMaxScaler(feature_range=(0,1))\n",
        "scaled_data = scaler.fit_transform(dataset)"
      ],
      "execution_count": null,
      "outputs": []
    },
    {
      "cell_type": "markdown",
      "metadata": {
        "id": "oiMXJwJUtLR3"
      },
      "source": [
        "## create the train data set"
      ]
    },
    {
      "cell_type": "code",
      "metadata": {
        "id": "hnT93zI0Dkac"
      },
      "source": [
        "train_data = scaled_data[0:training_data_len]\n",
        "\n",
        "# split the data into x_train and y_train data set\n",
        "x_train = []\n",
        "y_train = []\n",
        "\n",
        "# x_train = 60 values, y_train = 61st and 62nd value\n",
        "for i in range(60,len(train_data)):\n",
        "  x_train.append(train_data[i-60:i])\n",
        "  y_train.append(train_data[i])\n",
        "\n",
        "#convert x_train and y_train into numpy arrrays\n",
        "x_train,y_train = np.array(x_train),np.array(y_train)\n",
        "\n",
        "# #Reshape x_train to 3 dim because LSTM requires 3 dim\n",
        "# x_train = np.reshape(x_train,(x_train.shape[0],x_train.shape[1],1))"
      ],
      "execution_count": null,
      "outputs": []
    },
    {
      "cell_type": "code",
      "metadata": {
        "colab": {
          "base_uri": "https://localhost:8080/"
        },
        "id": "cwJ0AUBuEJb_",
        "outputId": "57a1fb0f-f878-4e65-d7ec-cc22d0d0da3d"
      },
      "source": [
        "x_train.shape, y_train.shape, x_train.dtype, y_train.dtype"
      ],
      "execution_count": null,
      "outputs": [
        {
          "output_type": "execute_result",
          "data": {
            "text/plain": [
              "((24988, 60, 1), (24988, 1), dtype('float64'), dtype('float64'))"
            ]
          },
          "metadata": {
            "tags": []
          },
          "execution_count": 7
        }
      ]
    },
    {
      "cell_type": "markdown",
      "metadata": {
        "id": "JZWE63rQEEeS"
      },
      "source": [
        "## Create Test dataset"
      ]
    },
    {
      "cell_type": "code",
      "metadata": {
        "id": "bXQFamJBELul"
      },
      "source": [
        "test_data = scaled_data[training_data_len-60:]\n",
        "\n",
        "#split the data into x_test and y_test data set\n",
        "x_test = []\n",
        "y_test = dataset[training_data_len:]\n",
        "\n",
        "#x_test = 60 values, y_test = 61st and 62nd value\n",
        "for i in range(60,len(test_data)):\n",
        "  x_test.append(test_data[i-60:i])\n",
        "\n",
        "#convert x_test and y_test into numpy arrrays\n",
        "x_test = np.array(x_test)\n",
        "\n",
        "# #Reshape x_test to 3 dim because LSTM requires 3 dim\n",
        "# x_test = np.reshape(x_test,(x_test.shape[0],x_test.shape[1],1))"
      ],
      "execution_count": null,
      "outputs": []
    },
    {
      "cell_type": "code",
      "metadata": {
        "colab": {
          "base_uri": "https://localhost:8080/"
        },
        "id": "01XPO8AoETBr",
        "outputId": "67686e43-7eb2-4150-d55a-ead395df5c2d"
      },
      "source": [
        "x_test.shape, type(y_test), x_test.dtype, len(y_test)"
      ],
      "execution_count": null,
      "outputs": [
        {
          "output_type": "execute_result",
          "data": {
            "text/plain": [
              "((6261, 60, 1), numpy.ndarray, dtype('float64'), 6261)"
            ]
          },
          "metadata": {
            "tags": []
          },
          "execution_count": 9
        }
      ]
    },
    {
      "cell_type": "markdown",
      "metadata": {
        "id": "LtbR0XHEtE0m"
      },
      "source": [
        "## Build the LSTM Model"
      ]
    },
    {
      "cell_type": "code",
      "metadata": {
        "id": "P9MBmGj-EVet"
      },
      "source": [
        "model = Sequential()\n",
        "model.add(LSTM(50, return_sequences=True))\n",
        "model.add(LSTM(50, return_sequences=False, input_shape = (x_train.shape[1],1)))\n",
        "model.add(Dense(25))\n",
        "model.add(Dense(1))"
      ],
      "execution_count": null,
      "outputs": []
    },
    {
      "cell_type": "code",
      "metadata": {
        "id": "c2yhScWKEad8"
      },
      "source": [
        "#compile the model\n",
        "model.compile(optimizer='adam',loss='mean_squared_error')"
      ],
      "execution_count": null,
      "outputs": []
    },
    {
      "cell_type": "markdown",
      "metadata": {
        "id": "OX6D2Ll2tjG2"
      },
      "source": [
        "## train the model"
      ]
    },
    {
      "cell_type": "code",
      "metadata": {
        "colab": {
          "base_uri": "https://localhost:8080/"
        },
        "id": "YjgnLdnoEdTF",
        "outputId": "6472cb4d-06fd-4dd7-893f-68173bd488f0"
      },
      "source": [
        "np.random.seed(42)\n",
        "model.fit(x_train,y_train,batch_size=1,epochs=1)"
      ],
      "execution_count": null,
      "outputs": [
        {
          "output_type": "stream",
          "text": [
            "24988/24988 [==============================] - 504s 19ms/step - loss: 4.1156e-04\n"
          ],
          "name": "stdout"
        },
        {
          "output_type": "execute_result",
          "data": {
            "text/plain": [
              "<keras.callbacks.History at 0x7f616012a9d0>"
            ]
          },
          "metadata": {
            "tags": []
          },
          "execution_count": 12
        }
      ]
    },
    {
      "cell_type": "code",
      "metadata": {
        "id": "uGZlwq8UDxH7"
      },
      "source": [
        "from keras.models import load_model\n",
        "model = load_model('/content/drive/MyDrive/Option Trading/model-1m(price).h5')"
      ],
      "execution_count": null,
      "outputs": []
    },
    {
      "cell_type": "markdown",
      "metadata": {
        "id": "9SYNjJO4BT2I"
      },
      "source": [
        "## Predict"
      ]
    },
    {
      "cell_type": "code",
      "metadata": {
        "colab": {
          "base_uri": "https://localhost:8080/"
        },
        "id": "dV7YOE8FEitu",
        "outputId": "3c8f3053-0471-4ece-9ab0-9019bab4b2e5"
      },
      "source": [
        "np.random.seed(42)\n",
        "predictions = model.predict(x_test)\n",
        "predictions = scaler.inverse_transform(predictions)\n",
        "mse = np.mean(predictions - y_test)**2\n",
        "mse"
      ],
      "execution_count": null,
      "outputs": [
        {
          "output_type": "execute_result",
          "data": {
            "text/plain": [
              "2.468056672920961e-08"
            ]
          },
          "metadata": {
            "tags": []
          },
          "execution_count": 12
        }
      ]
    },
    {
      "cell_type": "code",
      "metadata": {
        "colab": {
          "base_uri": "https://localhost:8080/"
        },
        "id": "yrFXHWYcrzsR",
        "outputId": "9557efb1-68fe-486d-a7ef-889e1bd4e4ed"
      },
      "source": [
        "x = scaler.inverse_transform([[0.4404444]])\n",
        "x"
      ],
      "execution_count": null,
      "outputs": [
        {
          "output_type": "execute_result",
          "data": {
            "text/plain": [
              "array([[1.20254334]])"
            ]
          },
          "metadata": {
            "tags": []
          },
          "execution_count": 11
        }
      ]
    },
    {
      "cell_type": "markdown",
      "metadata": {
        "id": "cDLLZs2SBYeJ"
      },
      "source": [
        "## Save the model"
      ]
    },
    {
      "cell_type": "code",
      "metadata": {
        "id": "Ps-07nGdEl4M"
      },
      "source": [
        "model.save(\"model-1m(price).h5\") 1.1797762  0.36923077"
      ],
      "execution_count": null,
      "outputs": []
    }
  ]
}