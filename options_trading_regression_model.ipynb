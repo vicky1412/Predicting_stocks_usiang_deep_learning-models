{
  "nbformat": 4,
  "nbformat_minor": 0,
  "metadata": {
    "colab": {
      "name": "options-trading-regression-model.ipynb",
      "provenance": [],
      "mount_file_id": "14FMsqENKR-dakbaq_HJe406iNe-MQFYP",
      "authorship_tag": "ABX9TyP6enS0g3Cd6TIo3tdSbx28",
      "include_colab_link": true
    },
    "kernelspec": {
      "name": "python3",
      "display_name": "Python 3"
    },
    "language_info": {
      "name": "python"
    }
  },
  "cells": [
    {
      "cell_type": "markdown",
      "metadata": {
        "id": "view-in-github",
        "colab_type": "text"
      },
      "source": [
        "<a href=\"https://colab.research.google.com/github/vicky1412/Predicting_stocks_usiang_deep_learning-models/blob/main/options_trading_regression_model.ipynb\" target=\"_parent\"><img src=\"https://colab.research.google.com/assets/colab-badge.svg\" alt=\"Open In Colab\"/></a>"
      ]
    },
    {
      "cell_type": "code",
      "metadata": {
        "id": "4tc5TEkcQkP8"
      },
      "source": [
        "pip install alpha_vantage"
      ],
      "execution_count": null,
      "outputs": []
    },
    {
      "cell_type": "markdown",
      "metadata": {
        "id": "F_AdcLgm2e3h"
      },
      "source": [
        "## Imports"
      ]
    },
    {
      "cell_type": "code",
      "metadata": {
        "id": "Qmqa6Gp15sfg"
      },
      "source": [
        "# Regular EDA (exploratory data analysis) and plotting libraries\n",
        "import numpy as np\n",
        "import pandas as pd\n",
        "import matplotlib\n",
        "import matplotlib.pyplot as plt\n",
        "import seaborn as sns\n",
        "import math\n",
        "\n",
        "# we want our plots to appear inside the notebook\n",
        "%matplotlib inline \n",
        "\n",
        "# Models from Scikit-Learn\n",
        "from sklearn.ensemble import RandomForestRegressor\n",
        "\n",
        "# Model Evaluations\n",
        "from sklearn.metrics import mean_squared_error, mean_absolute_error\n",
        "from sklearn.model_selection import train_test_split, cross_val_score\n",
        "from sklearn.model_selection import RandomizedSearchCV, GridSearchCV"
      ],
      "execution_count": null,
      "outputs": []
    },
    {
      "cell_type": "markdown",
      "metadata": {
        "id": "jJ0CFbuBO-4x"
      },
      "source": [
        "## Create API object"
      ]
    },
    {
      "cell_type": "code",
      "metadata": {
        "id": "lYKM4vPMQqzJ"
      },
      "source": [
        "from alpha_vantage.foreignexchange import ForeignExchange\n",
        "\n",
        "API_Key = 'GICCCRW4PJWT0C9'\n",
        "ts = ForeignExchange(key=API_Key,output_format='pandas')"
      ],
      "execution_count": null,
      "outputs": []
    },
    {
      "cell_type": "code",
      "metadata": {
        "id": "CGc4G-Pw5ykB"
      },
      "source": [
        "data = ts.get_currency_exchange_intraday(from_symbol='EUR', to_symbol='USD', interval='1min', outputsize='full')[0]\n",
        "data"
      ],
      "execution_count": null,
      "outputs": []
    },
    {
      "cell_type": "markdown",
      "metadata": {
        "id": "ZjM5j8wyG3I9"
      },
      "source": [
        "## Data Manipulation"
      ]
    },
    {
      "cell_type": "code",
      "metadata": {
        "id": "qCvazk1w6GGe"
      },
      "source": [
        "# Rename the columns\n",
        "data.rename(columns = {'1. open':'Open'}, inplace = True)\n",
        "data.rename(columns = {'2. high':'High'}, inplace = True)\n",
        "data.rename(columns = {'3. low':'Low'}, inplace = True)\n",
        "data.rename(columns = {'4. close':'Close'}, inplace = True)\n",
        "# reverse it\n",
        "data = data.iloc[::-1]\n",
        "# set Index\n",
        "data['Index'] = np.arange(len(data))\n",
        "data.set_index('Index',inplace=True)\n",
        "\n",
        "def Diff_body(row):\n",
        "  return abs(row['Open']-row['Close'])\n",
        "def Diff_wick(row):\n",
        "  return abs(row['High']-row['Low'])\n",
        "def Current(row):\n",
        "  id = row.name + 1\n",
        "  try:\n",
        "    return data.iloc[[id],[3]].values[0][0]\n",
        "  except:\n",
        "    return data.iloc[[id-1],[3]].values[0][0]\n",
        "def Next(row):\n",
        "  id = row.name + 2\n",
        "  try:\n",
        "    return data.iloc[[id],[3]].values[0][0]\n",
        "  except:\n",
        "    return data.iloc[[id-2],[3]].values[0][0]\n",
        "\n",
        "# Get the color(candles)\n",
        "data['Diff_body'] = data.apply (lambda row: Diff_body(row), axis=1)\n",
        "data['Diff_wick'] = data.apply (lambda row: Diff_wick(row), axis=1)\n",
        "data['Current'] = data.apply (lambda row: Current(row), axis=1)\n",
        "data['Next'] = data.apply (lambda row: Next(row), axis=1)"
      ],
      "execution_count": null,
      "outputs": []
    },
    {
      "cell_type": "code",
      "metadata": {
        "id": "kjbfoLbJ8Zmr"
      },
      "source": [
        "data"
      ],
      "execution_count": null,
      "outputs": []
    },
    {
      "cell_type": "markdown",
      "metadata": {
        "id": "jAM3gm-0-mDI"
      },
      "source": [
        "## Split data into X and Y"
      ]
    },
    {
      "cell_type": "code",
      "metadata": {
        "id": "VyOFTJDvH3aj"
      },
      "source": [
        "X = data.drop(['Current','Next'], axis=1)\n",
        "Y1 = data['Current']\n",
        "Y2 = data['Next']"
      ],
      "execution_count": null,
      "outputs": []
    },
    {
      "cell_type": "code",
      "metadata": {
        "id": "IiidDZwA2Ssm"
      },
      "source": [
        "X"
      ],
      "execution_count": null,
      "outputs": []
    },
    {
      "cell_type": "markdown",
      "metadata": {
        "id": "_AwCBiGmKP0d"
      },
      "source": [
        "## Split data into train and test sets"
      ]
    },
    {
      "cell_type": "code",
      "metadata": {
        "id": "Na835nktKVxV"
      },
      "source": [
        "# Split data into train and test sets\n",
        "np.random.seed(42)\n",
        "# Split into train & test set\n",
        "X1_train, X1_test, Y1_train, Y1_test = train_test_split(X,Y1,test_size=0.2)\n",
        "X2_train, X2_test, Y2_train, Y2_test = train_test_split(X,Y2,test_size=0.2)"
      ],
      "execution_count": null,
      "outputs": []
    },
    {
      "cell_type": "code",
      "metadata": {
        "id": "wufeVHyHSHoj",
        "colab": {
          "base_uri": "https://localhost:8080/"
        },
        "outputId": "b4adbd79-29bf-4485-856f-d6e475105b8a"
      },
      "source": [
        "X1_train.shape,X1_test.shape"
      ],
      "execution_count": null,
      "outputs": [
        {
          "output_type": "execute_result",
          "data": {
            "text/plain": [
              "((896, 6), (224, 6))"
            ]
          },
          "metadata": {
            "tags": []
          },
          "execution_count": 9
        }
      ]
    },
    {
      "cell_type": "markdown",
      "metadata": {
        "id": "ssgbWJT9MLR9"
      },
      "source": [
        "## Modeling"
      ]
    },
    {
      "cell_type": "code",
      "metadata": {
        "id": "XYy5rQm6B84F"
      },
      "source": [
        "# Create function to evaluate model on a few different levels\n",
        "def show_scores(model,X_train,X_test,Y_train,Y_test):\n",
        "    train_preds = model.predict(X_train)\n",
        "    test_preds = model.predict(X_test)\n",
        "    y_train = Y_train\n",
        "    y_test = Y_test\n",
        "\n",
        "    scores = {\"Training MAE\": mean_absolute_error(y_train, train_preds),\n",
        "              \"Test MAE\": mean_absolute_error(y_test, test_preds),\n",
        "              \"Training MSE\": mean_squared_error(y_train, train_preds),\n",
        "              \"Test MSE\": mean_squared_error(y_test, test_preds)}\n",
        "    return scores"
      ],
      "execution_count": null,
      "outputs": []
    },
    {
      "cell_type": "code",
      "metadata": {
        "id": "gkqs1fTBUe3L"
      },
      "source": [
        "rf_grid = {\"n_estimators\": np.arange(1,50000, 1)}\n",
        "\n",
        "# Instantiate RandomizedSearchCV model\n",
        "rs_model = RandomizedSearchCV(RandomForestRegressor(n_jobs=-1,\n",
        "                                                    random_state=42),\n",
        "                              param_distributions=rf_grid,\n",
        "                              n_iter=2,\n",
        "                              cv=5,\n",
        "                              verbose=True)\n",
        "\n",
        "# Fit the RandomizedSearchCV model\n",
        "rs_model.fit(X2_train, Y2_train)"
      ],
      "execution_count": null,
      "outputs": []
    },
    {
      "cell_type": "code",
      "metadata": {
        "id": "eMJx84cTUu-X"
      },
      "source": [
        "rs_model.best_params_"
      ],
      "execution_count": null,
      "outputs": []
    },
    {
      "cell_type": "code",
      "metadata": {
        "id": "S4HjpM6NU81O"
      },
      "source": [
        "show_scores(rs_model,X2_train,X2_test,Y2_train,Y2_test)"
      ],
      "execution_count": null,
      "outputs": []
    },
    {
      "cell_type": "code",
      "metadata": {
        "id": "0LCrUuLHVGLT"
      },
      "source": [
        "modelcurrent = RandomForestRegressor(n_jobs=-1,n_estimators=1114)\n",
        "modelcurrent.fit(X1_train, Y1_train);"
      ],
      "execution_count": null,
      "outputs": []
    },
    {
      "cell_type": "code",
      "metadata": {
        "id": "QIuob2E3AhIx"
      },
      "source": [
        "modelnext = RandomForestRegressor(n_jobs=-1,n_estimators=1609)\n",
        "modelnext.fit(X2_train, Y2_train);"
      ],
      "execution_count": null,
      "outputs": []
    },
    {
      "cell_type": "code",
      "metadata": {
        "id": "rxBHJeeqBav5"
      },
      "source": [
        "modelcurrent.score(X1_test,Y1_test)"
      ],
      "execution_count": null,
      "outputs": []
    },
    {
      "cell_type": "code",
      "metadata": {
        "id": "gWmot1iRauPr"
      },
      "source": [
        "modelnext.score(X2_test,Y2_test)"
      ],
      "execution_count": null,
      "outputs": []
    },
    {
      "cell_type": "code",
      "metadata": {
        "id": "na481nnOTD5O"
      },
      "source": [
        "show_scores(modelcurrent,X1_train,X1_test,Y1_train,Y1_test)"
      ],
      "execution_count": null,
      "outputs": []
    },
    {
      "cell_type": "code",
      "metadata": {
        "id": "qxzuWShfa6IJ"
      },
      "source": [
        "show_scores(modelnext,X2_train,X2_test,Y2_train,Y2_test)"
      ],
      "execution_count": null,
      "outputs": []
    },
    {
      "cell_type": "code",
      "metadata": {
        "id": "U-ig90LqeSvP"
      },
      "source": [
        "mse_modelcurrent = 0.00017\n",
        "mse_modelnext = 0.00016"
      ],
      "execution_count": null,
      "outputs": []
    },
    {
      "cell_type": "markdown",
      "metadata": {
        "id": "vdW85L20Wdrc"
      },
      "source": [
        "## Predict"
      ]
    },
    {
      "cell_type": "code",
      "metadata": {
        "colab": {
          "base_uri": "https://localhost:8080/"
        },
        "id": "LSTgY51oWUrI",
        "outputId": "3cbc5cf1-1d11-48f1-b480-3d9554dfac2e"
      },
      "source": [
        "predictions = model.predict(X_test)\n",
        "mse = np.mean(predictions - Y_test)**2\n",
        "mse"
      ],
      "execution_count": null,
      "outputs": [
        {
          "output_type": "execute_result",
          "data": {
            "text/plain": [
              "0.0604766464"
            ]
          },
          "metadata": {
            "tags": []
          },
          "execution_count": 125
        }
      ]
    },
    {
      "cell_type": "markdown",
      "metadata": {
        "id": "cMA6570KQapR"
      },
      "source": [
        "## Save Model"
      ]
    },
    {
      "cell_type": "code",
      "metadata": {
        "id": "seeUDThcWq2i"
      },
      "source": [
        "import pickle\n",
        "\n",
        "Filename1 = \"model-1m-regressor(current).pkl\"  \n",
        "Filename2 = \"model-1m-regressor(next).pkl\"  \n",
        "\n",
        "with open(Filename1, 'wb') as file:  \n",
        "    pickle.dump(model1, file)\n",
        "with open(Filename2, 'wb') as file:  \n",
        "    pickle.dump(model2, file)"
      ],
      "execution_count": null,
      "outputs": []
    },
    {
      "cell_type": "markdown",
      "metadata": {
        "id": "jtH72orBQM8a"
      },
      "source": [
        "## Realtime"
      ]
    },
    {
      "cell_type": "code",
      "metadata": {
        "colab": {
          "base_uri": "https://localhost:8080/",
          "height": 319
        },
        "id": "1U4m58ZPQQdq",
        "outputId": "98861e38-bc27-4be1-b72d-7e530d5775d7"
      },
      "source": [
        "datas = ts.get_currency_exchange_intraday(from_symbol='EUR', to_symbol='USD', interval='1min', outputsize='full')[0]\n",
        "# Rename the columns\n",
        "datas.rename(columns = {'1. open':'Open'}, inplace = True)\n",
        "datas.rename(columns = {'2. high':'High'}, inplace = True)\n",
        "datas.rename(columns = {'3. low':'Low'}, inplace = True)\n",
        "datas.rename(columns = {'4. close':'Close'}, inplace = True)\n",
        "# set Index\n",
        "datas['Index'] = np.arange(len(datas))\n",
        "datas.set_index('Index',inplace=True)\n",
        "# Add Diff column\n",
        "def Diff_bodys(row):\n",
        "  return abs(row['Open']-row['Close'])\n",
        "def Diff_wicks(row):\n",
        "  return abs(row['High']-row['Low'])\n",
        "# Get the diff(candles)\n",
        "datas['Diff_body'] = datas.apply (lambda row: Diff_bodys(row), axis=1)\n",
        "datas['Diff_wick'] = datas.apply (lambda row: Diff_wicks(row), axis=1)\n",
        "final_datas = datas.iloc[datas.index==0]\n",
        "pd.options.display.float_format = '{:,.5f}'.format\n",
        "# Predict\n",
        "predictions_current = modelcurrent.predict(final_datas)[0]\n",
        "predictions_next = modelnext.predict(final_datas)[0]\n",
        "\n",
        "mse_current = 0.00017\n",
        "mse_next = 0.00016\n",
        "\n",
        "previous_close = final_datas['Close'].values[0]\n",
        "\n",
        "# Virtualize\n",
        "fig, ax = plt.subplots(1,2,figsize=(12,5))\n",
        "# Title\n",
        "ax[0].set(title=\"current_predicted\", xlabel=\"Height\", ylabel=\"Width\")\n",
        "ax[1].set(title=\"Next_predicted\", xlabel=\"Height\", ylabel=\"Width\")\n",
        "# X and Y limit\n",
        "ax[0].set_xlim(0,5)\n",
        "ax[0].set_ylim(0,5)\n",
        "ax[1].set_xlim(0,5)\n",
        "ax[1].set_ylim(0,5)\n",
        "# hide grid\n",
        "ax[0].grid(False)\n",
        "ax[1].grid(False)\n",
        "# hide axis\n",
        "ax[0].axis('off')\n",
        "ax[1].axis('off')\n",
        "\n",
        "def rects(axx,ayy,width,height,cancolor):\n",
        "  rect = matplotlib.patches.Rectangle((axx, ayy),width, height,color =cancolor)\n",
        "  return rect\n",
        "\n",
        "# predictions_current\n",
        "if previous_close < (predictions_current):\n",
        "  rect = rects(2,1,1,3,'green')\n",
        "  ax[0].add_patch(rect)\n",
        "elif previous_close > (predictions_current):\n",
        "  rect = rects(2,1,1,3,'red')\n",
        "  ax[0].add_patch(rect)\n",
        "else:\n",
        "  rect = rects(2,1,1,3,'black')\n",
        "  ax[0].add_patch(rect)\n",
        "# predictions_next\n",
        "if previous_close < (predictions_next):\n",
        "  rect = rects(2,1,1,3,'green')\n",
        "  ax[1].add_patch(rect)\n",
        "elif previous_close > (predictions_next):\n",
        "  rect = rects(2,1,1,3,'red')\n",
        "  ax[1].add_patch(rect)\n",
        "else:\n",
        "  rect = rects(2,1,1,3,'black')\n",
        "  ax[1].add_patch(rect)"
      ],
      "execution_count": null,
      "outputs": [
        {
          "output_type": "display_data",
          "data": {
            "image/png": "[encoded data removed]",
            "text/plain": [
              "<Figure size 864x360 with 2 Axes>"
            ]
          },
          "metadata": {
            "tags": [],
            "needs_background": "light"
          }
        }
      ]
    },
    {
      "cell_type": "code",
      "metadata": {
        "colab": {
          "base_uri": "https://localhost:8080/"
        },
        "id": "rw93t15BJlj7",
        "outputId": "e32cec3d-6121-45e7-fde6-b2c958fb5e87"
      },
      "source": [
        "predictions_current,predictions_next"
      ],
      "execution_count": null,
      "outputs": [
        {
          "output_type": "execute_result",
          "data": {
            "text/plain": [
              "(1.177897548960293, 1.1778849859531009)"
            ]
          },
          "metadata": {
            "tags": []
          },
          "execution_count": 48
        }
      ]
    },
    {
      "cell_type": "code",
      "metadata": {
        "colab": {
          "base_uri": "https://localhost:8080/",
          "height": 235
        },
        "id": "B4pCVoj6JfoL",
        "outputId": "1edf0460-42e7-46c6-a32f-ce44b37c6525"
      },
      "source": [
        "ds = ts.get_currency_exchange_intraday(from_symbol='EUR', to_symbol='USD', interval='1min', outputsize='full')[0]\n",
        "ds.head()"
      ],
      "execution_count": null,
      "outputs": [
        {
          "output_type": "execute_result",
          "data": {
            "text/html": [
              "<div>\n",
              "<style scoped>\n",
              "    .dataframe tbody tr th:only-of-type {\n",
              "        vertical-align: middle;\n",
              "    }\n",
              "\n",
              "    .dataframe tbody tr th {\n",
              "        vertical-align: top;\n",
              "    }\n",
              "\n",
              "    .dataframe thead th {\n",
              "        text-align: right;\n",
              "    }\n",
              "</style>\n",
              "<table border=\"1\" class=\"dataframe\">\n",
              "  <thead>\n",
              "    <tr style=\"text-align: right;\">\n",
              "      <th></th>\n",
              "      <th>1. open</th>\n",
              "      <th>2. high</th>\n",
              "      <th>3. low</th>\n",
              "      <th>4. close</th>\n",
              "    </tr>\n",
              "    <tr>\n",
              "      <th>date</th>\n",
              "      <th></th>\n",
              "      <th></th>\n",
              "      <th></th>\n",
              "      <th></th>\n",
              "    </tr>\n",
              "  </thead>\n",
              "  <tbody>\n",
              "    <tr>\n",
              "      <th>2021-07-26 05:01:00</th>\n",
              "      <td>1.17770</td>\n",
              "      <td>1.17788</td>\n",
              "      <td>1.17760</td>\n",
              "      <td>1.17760</td>\n",
              "    </tr>\n",
              "    <tr>\n",
              "      <th>2021-07-26 05:00:00</th>\n",
              "      <td>1.17784</td>\n",
              "      <td>1.17790</td>\n",
              "      <td>1.17770</td>\n",
              "      <td>1.17785</td>\n",
              "    </tr>\n",
              "    <tr>\n",
              "      <th>2021-07-26 04:59:00</th>\n",
              "      <td>1.17792</td>\n",
              "      <td>1.17792</td>\n",
              "      <td>1.17770</td>\n",
              "      <td>1.17780</td>\n",
              "    </tr>\n",
              "    <tr>\n",
              "      <th>2021-07-26 04:58:00</th>\n",
              "      <td>1.17780</td>\n",
              "      <td>1.17800</td>\n",
              "      <td>1.17780</td>\n",
              "      <td>1.17790</td>\n",
              "    </tr>\n",
              "    <tr>\n",
              "      <th>2021-07-26 04:57:00</th>\n",
              "      <td>1.17788</td>\n",
              "      <td>1.17790</td>\n",
              "      <td>1.17770</td>\n",
              "      <td>1.17789</td>\n",
              "    </tr>\n",
              "  </tbody>\n",
              "</table>\n",
              "</div>"
            ],
            "text/plain": [
              "                     1. open  2. high  3. low  4. close\n",
              "date                                                   \n",
              "2021-07-26 05:01:00  1.17770  1.17788 1.17760   1.17760\n",
              "2021-07-26 05:00:00  1.17784  1.17790 1.17770   1.17785\n",
              "2021-07-26 04:59:00  1.17792  1.17792 1.17770   1.17780\n",
              "2021-07-26 04:58:00  1.17780  1.17800 1.17780   1.17790\n",
              "2021-07-26 04:57:00  1.17788  1.17790 1.17770   1.17789"
            ]
          },
          "metadata": {
            "tags": []
          },
          "execution_count": 53
        }
      ]
    }
  ]
}